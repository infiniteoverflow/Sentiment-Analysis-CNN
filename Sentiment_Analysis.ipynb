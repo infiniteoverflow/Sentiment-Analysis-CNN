{
  "nbformat": 4,
  "nbformat_minor": 0,
  "metadata": {
    "colab": {
      "name": "Sentiment Analysis.ipynb",
      "provenance": [],
      "collapsed_sections": [],
      "authorship_tag": "ABX9TyOxMauD+1amweajzXzCpoKb",
      "include_colab_link": true
    },
    "kernelspec": {
      "name": "python3",
      "display_name": "Python 3"
    },
    "accelerator": "GPU"
  },
  "cells": [
    {
      "cell_type": "markdown",
      "metadata": {
        "id": "view-in-github",
        "colab_type": "text"
      },
      "source": [
        "<a href=\"https://colab.research.google.com/github/infiniteoverflow/Sentiment-Analysis-CNN/blob/master/Sentiment_Analysis.ipynb\" target=\"_parent\"><img src=\"https://colab.research.google.com/assets/colab-badge.svg\" alt=\"Open In Colab\"/></a>"
      ]
    },
    {
      "cell_type": "code",
      "metadata": {
        "id": "DD_8tdCWqPsb",
        "colab_type": "code",
        "colab": {}
      },
      "source": [
        "import tensorflow as tf\n",
        "from tensorflow.keras import datasets,layers,models,preprocessing"
      ],
      "execution_count": 1,
      "outputs": []
    },
    {
      "cell_type": "code",
      "metadata": {
        "id": "WllKZnmkqkMK",
        "colab_type": "code",
        "colab": {}
      },
      "source": [
        "max_len = 200 # Input_length to the Embedding layer\n",
        "n_words = 10000 # Number of words to be used from the IMDB dataset\n",
        "dim_embedding = 256 # Output Dimensions of the embedding layer\n",
        "EPOCHS = 20\n",
        "BATCH_SIZE = 500"
      ],
      "execution_count": 2,
      "outputs": []
    },
    {
      "cell_type": "code",
      "metadata": {
        "id": "YZ0jC8Oyq8E6",
        "colab_type": "code",
        "colab": {}
      },
      "source": [
        "# Function to load and preprocess data\n",
        "\n",
        "def load_data():\n",
        "  (x_train,y_train) , (x_test,y_test) = datasets.imdb.load_data(num_words=n_words)\n",
        "  print(x_train)\n",
        "  x_train = preprocessing.sequence.pad_sequences(x_train,maxlen=max_len)\n",
        "  x_test = preprocessing.sequence.pad_sequences(x_test,maxlen=max_len)\n",
        "\n",
        "  return (x_train,y_train),(x_test,y_test)"
      ],
      "execution_count": 22,
      "outputs": []
    },
    {
      "cell_type": "code",
      "metadata": {
        "id": "aRImK_-qreX6",
        "colab_type": "code",
        "colab": {}
      },
      "source": [
        "def build_model():\n",
        "  model = models.Sequential()\n",
        "\n",
        "  model.add(layers.Embedding(n_words,dim_embedding,input_length=max_len))\n",
        "\n",
        "  model.add(layers.Dropout(0.5))\n",
        "\n",
        "  model.add(layers.Conv1D(256,3,padding='valid',activation='relu'))\n",
        "\n",
        "  model.add(layers.GlobalMaxPool1D())\n",
        "\n",
        "  model.add(layers.Dense(128,activation='relu'))\n",
        "\n",
        "  model.add(layers.Dropout(0.5))\n",
        "\n",
        "  model.add(layers.Dense(1,activation='sigmoid'))\n",
        "\n",
        "  return model"
      ],
      "execution_count": 13,
      "outputs": []
    },
    {
      "cell_type": "code",
      "metadata": {
        "id": "H1ViOwXcsMss",
        "colab_type": "code",
        "colab": {
          "base_uri": "https://localhost:8080/",
          "height": 391
        },
        "outputId": "51d3482e-d8fe-4848-c7a4-c5b341439f21"
      },
      "source": [
        "(x_train,y_train),(x_test,y_test) = load_data()\n",
        "model = build_model()\n",
        "model.summary()"
      ],
      "execution_count": 14,
      "outputs": [
        {
          "output_type": "stream",
          "text": [
            "Model: \"sequential_3\"\n",
            "_________________________________________________________________\n",
            "Layer (type)                 Output Shape              Param #   \n",
            "=================================================================\n",
            "embedding_2 (Embedding)      (None, 200, 256)          2560000   \n",
            "_________________________________________________________________\n",
            "dropout_6 (Dropout)          (None, 200, 256)          0         \n",
            "_________________________________________________________________\n",
            "conv1d_3 (Conv1D)            (None, 198, 256)          196864    \n",
            "_________________________________________________________________\n",
            "global_max_pooling1d_3 (Glob (None, 256)               0         \n",
            "_________________________________________________________________\n",
            "dense_6 (Dense)              (None, 128)               32896     \n",
            "_________________________________________________________________\n",
            "dropout_7 (Dropout)          (None, 128)               0         \n",
            "_________________________________________________________________\n",
            "dense_7 (Dense)              (None, 1)                 129       \n",
            "=================================================================\n",
            "Total params: 2,789,889\n",
            "Trainable params: 2,789,889\n",
            "Non-trainable params: 0\n",
            "_________________________________________________________________\n"
          ],
          "name": "stdout"
        }
      ]
    },
    {
      "cell_type": "code",
      "metadata": {
        "id": "0lBzuMK6sWav",
        "colab_type": "code",
        "colab": {}
      },
      "source": [
        "model.compile(\n",
        "    optimizer='adam',\n",
        "    loss = 'binary_crossentropy',\n",
        "    metrics = ['accuracy']\n",
        ")"
      ],
      "execution_count": 15,
      "outputs": []
    },
    {
      "cell_type": "code",
      "metadata": {
        "id": "4mZuEspxtbDT",
        "colab_type": "code",
        "colab": {
          "base_uri": "https://localhost:8080/",
          "height": 697
        },
        "outputId": "57313538-510f-45e4-95f3-447733aa5205"
      },
      "source": [
        "score = model.fit(\n",
        "    x_train,\n",
        "    y_train,\n",
        "    batch_size=BATCH_SIZE,\n",
        "    epochs = EPOCHS,\n",
        "    validation_data = (x_test,y_test)\n",
        ")"
      ],
      "execution_count": 16,
      "outputs": [
        {
          "output_type": "stream",
          "text": [
            "Epoch 1/20\n",
            "50/50 [==============================] - 11s 225ms/step - loss: 0.6761 - accuracy: 0.5915 - val_loss: 0.5949 - val_accuracy: 0.7536\n",
            "Epoch 2/20\n",
            "50/50 [==============================] - 11s 222ms/step - loss: 0.4544 - accuracy: 0.7918 - val_loss: 0.3402 - val_accuracy: 0.8517\n",
            "Epoch 3/20\n",
            "50/50 [==============================] - 11s 220ms/step - loss: 0.2979 - accuracy: 0.8766 - val_loss: 0.2849 - val_accuracy: 0.8788\n",
            "Epoch 4/20\n",
            "50/50 [==============================] - 11s 220ms/step - loss: 0.2178 - accuracy: 0.9151 - val_loss: 0.2695 - val_accuracy: 0.8858\n",
            "Epoch 5/20\n",
            "50/50 [==============================] - 11s 220ms/step - loss: 0.1623 - accuracy: 0.9430 - val_loss: 0.2777 - val_accuracy: 0.8869\n",
            "Epoch 6/20\n",
            "50/50 [==============================] - 11s 221ms/step - loss: 0.1169 - accuracy: 0.9614 - val_loss: 0.2977 - val_accuracy: 0.8830\n",
            "Epoch 7/20\n",
            "50/50 [==============================] - 11s 220ms/step - loss: 0.0788 - accuracy: 0.9754 - val_loss: 0.3237 - val_accuracy: 0.8825\n",
            "Epoch 8/20\n",
            "50/50 [==============================] - 11s 221ms/step - loss: 0.0524 - accuracy: 0.9850 - val_loss: 0.3481 - val_accuracy: 0.8825\n",
            "Epoch 9/20\n",
            "50/50 [==============================] - 11s 222ms/step - loss: 0.0354 - accuracy: 0.9913 - val_loss: 0.3816 - val_accuracy: 0.8814\n",
            "Epoch 10/20\n",
            "50/50 [==============================] - 11s 221ms/step - loss: 0.0256 - accuracy: 0.9937 - val_loss: 0.4095 - val_accuracy: 0.8776\n",
            "Epoch 11/20\n",
            "50/50 [==============================] - 11s 223ms/step - loss: 0.0185 - accuracy: 0.9960 - val_loss: 0.4282 - val_accuracy: 0.8795\n",
            "Epoch 12/20\n",
            "50/50 [==============================] - 11s 223ms/step - loss: 0.0141 - accuracy: 0.9966 - val_loss: 0.4486 - val_accuracy: 0.8787\n",
            "Epoch 13/20\n",
            "50/50 [==============================] - 11s 220ms/step - loss: 0.0105 - accuracy: 0.9979 - val_loss: 0.4861 - val_accuracy: 0.8770\n",
            "Epoch 14/20\n",
            "50/50 [==============================] - 11s 220ms/step - loss: 0.0095 - accuracy: 0.9971 - val_loss: 0.4900 - val_accuracy: 0.8796\n",
            "Epoch 15/20\n",
            "50/50 [==============================] - 11s 220ms/step - loss: 0.0070 - accuracy: 0.9986 - val_loss: 0.5126 - val_accuracy: 0.8788\n",
            "Epoch 16/20\n",
            "50/50 [==============================] - 11s 221ms/step - loss: 0.0065 - accuracy: 0.9984 - val_loss: 0.5205 - val_accuracy: 0.8775\n",
            "Epoch 17/20\n",
            "50/50 [==============================] - 11s 220ms/step - loss: 0.0051 - accuracy: 0.9990 - val_loss: 0.5552 - val_accuracy: 0.8787\n",
            "Epoch 18/20\n",
            "50/50 [==============================] - 11s 220ms/step - loss: 0.0045 - accuracy: 0.9990 - val_loss: 0.5576 - val_accuracy: 0.8775\n",
            "Epoch 19/20\n",
            "50/50 [==============================] - 11s 224ms/step - loss: 0.0049 - accuracy: 0.9988 - val_loss: 0.5581 - val_accuracy: 0.8770\n",
            "Epoch 20/20\n",
            "50/50 [==============================] - 11s 221ms/step - loss: 0.0045 - accuracy: 0.9989 - val_loss: 0.5755 - val_accuracy: 0.8778\n"
          ],
          "name": "stdout"
        }
      ]
    },
    {
      "cell_type": "code",
      "metadata": {
        "id": "2fbML-xVus9P",
        "colab_type": "code",
        "colab": {}
      },
      "source": [
        "word_indices = datasets.imdb.get_word_index()"
      ],
      "execution_count": 27,
      "outputs": []
    },
    {
      "cell_type": "code",
      "metadata": {
        "id": "EuCkcg27vyoB",
        "colab_type": "code",
        "colab": {}
      },
      "source": [
        "test = ['Well the movie was pretty good']\n",
        "\n",
        "input_list = [word_indices[x.lower()] for x in test[0].split() ]"
      ],
      "execution_count": 100,
      "outputs": []
    },
    {
      "cell_type": "code",
      "metadata": {
        "id": "Mb2FO_4Iwedc",
        "colab_type": "code",
        "colab": {
          "base_uri": "https://localhost:8080/",
          "height": 34
        },
        "outputId": "4fcd4ee2-4af6-4d0e-918f-fddbd1714f5c"
      },
      "source": [
        "input_list"
      ],
      "execution_count": 101,
      "outputs": [
        {
          "output_type": "execute_result",
          "data": {
            "text/plain": [
              "[70, 1, 17, 13, 181, 49]"
            ]
          },
          "metadata": {
            "tags": []
          },
          "execution_count": 101
        }
      ]
    },
    {
      "cell_type": "code",
      "metadata": {
        "id": "0MsZ_QDbxIiX",
        "colab_type": "code",
        "colab": {}
      },
      "source": [
        "input = preprocessing.sequence.pad_sequences([input_list],maxlen=max_len)"
      ],
      "execution_count": 102,
      "outputs": []
    },
    {
      "cell_type": "code",
      "metadata": {
        "id": "v2qFTbNcxPrs",
        "colab_type": "code",
        "colab": {
          "base_uri": "https://localhost:8080/",
          "height": 34
        },
        "outputId": "b2f36995-77ee-4e7f-863e-acc24fbdfa31"
      },
      "source": [
        "classes = ['NEGATIVE','POSITIVE']\n",
        "print(classes[int(round(model.predict(input)[0][0]))])"
      ],
      "execution_count": 103,
      "outputs": [
        {
          "output_type": "stream",
          "text": [
            "POSITIVE\n"
          ],
          "name": "stdout"
        }
      ]
    },
    {
      "cell_type": "code",
      "metadata": {
        "id": "hlc7cs7Fx4cA",
        "colab_type": "code",
        "colab": {}
      },
      "source": [
        ""
      ],
      "execution_count": null,
      "outputs": []
    }
  ]
}